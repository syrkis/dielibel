{
 "cells": [
  {
   "cell_type": "code",
   "execution_count": 8,
   "metadata": {},
   "outputs": [
    {
     "ename": "ModuleNotFoundError",
     "evalue": "No module named 'tqdm'",
     "output_type": "error",
     "traceback": [
      "\u001b[0;31m---------------------------------------------------------------------------\u001b[0m",
      "\u001b[0;31mModuleNotFoundError\u001b[0m                       Traceback (most recent call last)",
      "\u001b[0;32m/var/folders/gz/mj1xnbz15pg3knd8c1tck2w80000gq/T/ipykernel_31240/2313806580.py\u001b[0m in \u001b[0;36m<module>\u001b[0;34m\u001b[0m\n\u001b[0;32m----> 1\u001b[0;31m \u001b[0;32mfrom\u001b[0m \u001b[0mtqdm\u001b[0m \u001b[0;32mimport\u001b[0m \u001b[0mtqdm\u001b[0m\u001b[0;34m\u001b[0m\u001b[0;34m\u001b[0m\u001b[0m\n\u001b[0m\u001b[1;32m      2\u001b[0m \u001b[0;32mimport\u001b[0m \u001b[0mtime\u001b[0m\u001b[0;34m\u001b[0m\u001b[0;34m\u001b[0m\u001b[0m\n\u001b[1;32m      3\u001b[0m \u001b[0;32mimport\u001b[0m \u001b[0mrequests\u001b[0m \u001b[0;32mas\u001b[0m \u001b[0mreq\u001b[0m\u001b[0;34m\u001b[0m\u001b[0;34m\u001b[0m\u001b[0m\n\u001b[1;32m      4\u001b[0m \u001b[0;32mimport\u001b[0m \u001b[0mbs4\u001b[0m\u001b[0;34m\u001b[0m\u001b[0;34m\u001b[0m\u001b[0m\n\u001b[1;32m      5\u001b[0m \u001b[0;32mimport\u001b[0m \u001b[0mpandas\u001b[0m \u001b[0;32mas\u001b[0m \u001b[0mpd\u001b[0m\u001b[0;34m\u001b[0m\u001b[0;34m\u001b[0m\u001b[0m\n",
      "\u001b[0;31mModuleNotFoundError\u001b[0m: No module named 'tqdm'"
     ]
    }
   ],
   "source": [
    "from tqdm import tqdm\n",
    "import time\n",
    "import requests as req\n",
    "import bs4\n",
    "import pandas as pd"
   ]
  },
  {
   "cell_type": "code",
   "execution_count": 6,
   "metadata": {},
   "outputs": [],
   "source": [
    "base_url = lambda n: f'https://www.ancestry.com/search/collections/62431/?count=50&residence=_denmark_5071&fh={(n + 2) * 50}&fsk=MDs5OTs1MA-61--61-'"
   ]
  },
  {
   "cell_type": "code",
   "execution_count": null,
   "metadata": {},
   "outputs": [],
   "source": [
    "def get_page_table(url):\n",
    "    res = req.get(url)\n",
    "    soup = bs4.BeautifulSoup(res.text, 'html.parser')\n",
    "    table = soup.find('table', {'id': 'resultsMain'})\n",
    "    names = [name.text for name in table.find_all('span', {'class': 'name'})]\n",
    "    return names"
   ]
  },
  {
   "cell_type": "code",
   "execution_count": 7,
   "metadata": {},
   "outputs": [
    {
     "name": "stdout",
     "output_type": "stream",
     "text": [
      "https://www.ancestry.com/search/collections/62431/?count=50&residence=_denmark_5071&fh=100&fsk=MDs5OTs1MA-61--61-\n",
      "https://www.ancestry.com/search/collections/62431/?count=50&residence=_denmark_5071&fh=150&fsk=MDs5OTs1MA-61--61-\n",
      "https://www.ancestry.com/search/collections/62431/?count=50&residence=_denmark_5071&fh=200&fsk=MDs5OTs1MA-61--61-\n",
      "https://www.ancestry.com/search/collections/62431/?count=50&residence=_denmark_5071&fh=250&fsk=MDs5OTs1MA-61--61-\n",
      "https://www.ancestry.com/search/collections/62431/?count=50&residence=_denmark_5071&fh=300&fsk=MDs5OTs1MA-61--61-\n",
      "https://www.ancestry.com/search/collections/62431/?count=50&residence=_denmark_5071&fh=350&fsk=MDs5OTs1MA-61--61-\n",
      "https://www.ancestry.com/search/collections/62431/?count=50&residence=_denmark_5071&fh=400&fsk=MDs5OTs1MA-61--61-\n",
      "https://www.ancestry.com/search/collections/62431/?count=50&residence=_denmark_5071&fh=450&fsk=MDs5OTs1MA-61--61-\n",
      "https://www.ancestry.com/search/collections/62431/?count=50&residence=_denmark_5071&fh=500&fsk=MDs5OTs1MA-61--61-\n",
      "https://www.ancestry.com/search/collections/62431/?count=50&residence=_denmark_5071&fh=550&fsk=MDs5OTs1MA-61--61-\n"
     ]
    }
   ],
   "source": [
    "\n",
    "names = []\n",
    "for i in tqdm(range(100_000)):\n",
    "    names += get_page_table(base_url(i))\n",
    "    if i % 1000 == 0:\n",
    "        with open('names.txt', 'w') as f:\n",
    "            f.write('\\n'.join(names))\n",
    "    time.sleep(0.1)"
   ]
  },
  {
   "cell_type": "code",
   "execution_count": null,
   "metadata": {},
   "outputs": [],
   "source": []
  }
 ],
 "metadata": {
  "kernelspec": {
   "display_name": "Python 3",
   "language": "python",
   "name": "python3"
  },
  "language_info": {
   "codemirror_mode": {
    "name": "ipython",
    "version": 3
   },
   "file_extension": ".py",
   "mimetype": "text/x-python",
   "name": "python",
   "nbconvert_exporter": "python",
   "pygments_lexer": "ipython3",
   "version": "3.7.13"
  },
  "orig_nbformat": 4
 },
 "nbformat": 4,
 "nbformat_minor": 2
}
